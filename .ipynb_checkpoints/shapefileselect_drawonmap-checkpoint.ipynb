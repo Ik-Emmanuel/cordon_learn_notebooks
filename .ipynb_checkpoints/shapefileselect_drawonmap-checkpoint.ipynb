{
 "cells": [
  {
   "cell_type": "markdown",
   "id": "0bbf494b-9382-4c43-aaf3-804e68af470c",
   "metadata": {
    "tags": []
   },
   "source": [
    "# Area Dropdown Notebook"
   ]
  },
  {
   "cell_type": "markdown",
   "id": "a88f477b-339d-405c-823e-c207bdadba42",
   "metadata": {},
   "source": [
    "\n"
   ]
  },
  {
   "cell_type": "markdown",
   "id": "948a8ff6-6f8d-4ec9-839c-667521374c8b",
   "metadata": {},
   "source": [
    "*Looking for: \n",
    "- every output from the Area selection needs to have a generic name aka 'boundary'\n",
    "- simplified dropdown selection \n",
    "- Draw an area not working\n",
    "- Get the past and present plots working \n",
    "- Get statistics from each plot*\n",
    "- map at time1 and time2. display in a a singe row of 3. map time1, map time2 AND map showing difference highlighted in red (also show a table of what became what) "
   ]
  },
  {
   "cell_type": "markdown",
   "id": "997def18-3ddd-402c-879b-535324ee5487",
   "metadata": {
    "tags": []
   },
   "source": [
    "# 0. Load initial functions and documentation"
   ]
  },
  {
   "cell_type": "code",
   "execution_count": 1,
   "id": "db66dbc3-5c4c-4bd8-94cf-2eba4810e1e3",
   "metadata": {
    "tags": []
   },
   "outputs": [
    {
     "data": {
      "application/vnd.jupyter.widget-view+json": {
       "model_id": "e9a1ce3df7b248d69c1039fe6a2c4879",
       "version_major": 2,
       "version_minor": 0
      },
      "text/plain": [
       "HTML(value='\\n    <p> <b style=\\'color:black\\'> List of available commands for selecting geographic sites for …"
      ]
     },
     "metadata": {},
     "output_type": "display_data"
    }
   ],
   "source": [
    "import notebook_dropdowns\n",
    "notebook_dropdowns.helper()"
   ]
  },
  {
   "cell_type": "markdown",
   "id": "574ff267-a377-420b-8e55-4f6819a51d54",
   "metadata": {
    "tags": []
   },
   "source": [
    "# 1. AREA selection - (AREA_SELECTION)"
   ]
  },
  {
   "cell_type": "code",
   "execution_count": 2,
   "id": "a81b0149-fcbd-4e1d-a270-9585b1c6e02e",
   "metadata": {
    "tags": []
   },
   "outputs": [
    {
     "data": {
      "application/vnd.jupyter.widget-view+json": {
       "model_id": "de7ce037c2ae48598a567c08a1e9b9ba",
       "version_major": 2,
       "version_minor": 0
      },
      "text/plain": [
       "Dropdown(description='Area Selection Type', layout=Layout(width='40%'), options=('1. User uploads', '2. Draw a…"
      ]
     },
     "metadata": {},
     "output_type": "display_data"
    },
    {
     "data": {
      "application/vnd.jupyter.widget-view+json": {
       "model_id": "8ec6b3c6bc4f40c584d253f57d933081",
       "version_major": 2,
       "version_minor": 0
      },
      "text/plain": [
       "Dropdown(description='Choose Vector', layout=Layout(width='40%'), options=('bbnp boundary', 'blackmts boundary…"
      ]
     },
     "metadata": {},
     "output_type": "display_data"
    },
    {
     "data": {
      "application/vnd.jupyter.widget-view+json": {
       "model_id": "c919d23b00ab4acdb05117b549a51592",
       "version_major": 2,
       "version_minor": 0
      },
      "text/plain": [
       "Dropdown(description='Select a polygon', layout=Layout(width='40%'), options=(), style=DescriptionStyle(descri…"
      ]
     },
     "metadata": {},
     "output_type": "display_data"
    },
    {
     "data": {
      "application/vnd.jupyter.widget-view+json": {
       "model_id": "acaa85d14b5045efb1d13fa31de87f9f",
       "version_major": 2,
       "version_minor": 0
      },
      "text/plain": [
       "Button(description='Reset', style=ButtonStyle())"
      ]
     },
     "metadata": {},
     "output_type": "display_data"
    }
   ],
   "source": [
    "# initialization of site selection \n",
    "polygon_select = notebook_dropdowns.area_selection()"
   ]
  },
  {
   "cell_type": "markdown",
   "id": "50c473e0-29a3-4c43-9c5d-a1af6d26848a",
   "metadata": {},
   "source": [
    "## A. Obtain and inspect the selected site its and metadata if it has as a dataframe and assign to a variable"
   ]
  },
  {
   "cell_type": "code",
   "execution_count": 9,
   "id": "a308815d-aaa6-4cbd-98d6-8664913fb293",
   "metadata": {
    "tags": []
   },
   "outputs": [
    {
     "data": {
      "text/html": [
       "<div>\n",
       "<style scoped>\n",
       "    .dataframe tbody tr th:only-of-type {\n",
       "        vertical-align: middle;\n",
       "    }\n",
       "\n",
       "    .dataframe tbody tr th {\n",
       "        vertical-align: top;\n",
       "    }\n",
       "\n",
       "    .dataframe thead th {\n",
       "        text-align: right;\n",
       "    }\n",
       "</style>\n",
       "<table border=\"1\" class=\"dataframe\">\n",
       "  <thead>\n",
       "    <tr style=\"text-align: right;\">\n",
       "      <th></th>\n",
       "      <th>NAME</th>\n",
       "      <th>geometry</th>\n",
       "      <th>fid</th>\n",
       "    </tr>\n",
       "  </thead>\n",
       "  <tbody>\n",
       "    <tr>\n",
       "      <th>0</th>\n",
       "      <td>Wales</td>\n",
       "      <td>MULTIPOLYGON (((234341.5 206686.9, 234242.5 20...</td>\n",
       "      <td>0</td>\n",
       "    </tr>\n",
       "  </tbody>\n",
       "</table>\n",
       "</div>"
      ],
      "text/plain": [
       "    NAME                                           geometry  fid\n",
       "0  Wales  MULTIPOLYGON (((234341.5 206686.9, 234242.5 20...    0"
      ]
     },
     "execution_count": 9,
     "metadata": {},
     "output_type": "execute_result"
    }
   ],
   "source": [
    "site_df = notebook_dropdowns.view_selected_polygon(polygon_select)\n",
    "site_df\n",
    "# or just run \"notebook_dropdowns.view_selected_polygon(polygon_select)\"  to view only\n"
   ]
  },
  {
   "cell_type": "markdown",
   "id": "acd12751-17e6-4d11-ad82-25a3ba421e20",
   "metadata": {
    "tags": []
   },
   "source": [
    "## B. Check the site boundary visually and by area"
   ]
  },
  {
   "cell_type": "code",
   "execution_count": 10,
   "id": "0f9e6795-0189-40b8-a3da-598cfd37d424",
   "metadata": {
    "tags": []
   },
   "outputs": [
    {
     "name": "stdout",
     "output_type": "stream",
     "text": [
      "Generating Plot ...\n"
     ]
    },
    {
     "data": {
      "application/vnd.jupyter.widget-view+json": {
       "model_id": "57bb9112095d444791c187fc273f5c9e",
       "version_major": 2,
       "version_minor": 0
      },
      "text/plain": [
       "IntProgress(value=0)"
      ]
     },
     "metadata": {},
     "output_type": "display_data"
    },
    {
     "data": {
      "image/png": "[encoded data removed]",
      "text/plain": [
       "<Figure size 1000x1000 with 1 Axes>"
      ]
     },
     "metadata": {},
     "output_type": "display_data"
    },
    {
     "name": "stdout",
     "output_type": "stream",
     "text": [
      "Total area: 5678682.10 ha\n"
     ]
    }
   ],
   "source": [
    "#  plot selected vector/polygon to confirm\n",
    "notebook_dropdowns.plot_selected_polygon(polygon_select)\n"
   ]
  },
  {
   "cell_type": "markdown",
   "id": "c0fb4f71-9337-4dfa-bac2-e55ad5a91f97",
   "metadata": {
    "tags": []
   },
   "source": [
    "## C. Visualise and pick site from map\n",
    "\n",
    "- if area_selection() above was set to 2. Draw an Area, map_and_select_area(polygon_select) will automatically detect and show map to draw area , else if shows map to click and select site/area"
   ]
  },
  {
   "cell_type": "code",
   "execution_count": 11,
   "id": "83254198-a0c0-4fd6-a06b-4eff0bdfcb44",
   "metadata": {
    "tags": []
   },
   "outputs": [
    {
     "name": "stdout",
     "output_type": "stream",
     "text": [
      "Generating Interactive Map ...\n"
     ]
    },
    {
     "data": {
      "application/vnd.jupyter.widget-view+json": {
       "model_id": "8bab107cb5914f1d9aaaacea30eb0abe",
       "version_major": 2,
       "version_minor": 0
      },
      "text/plain": [
       "IntProgress(value=0)"
      ]
     },
     "metadata": {},
     "output_type": "display_data"
    },
    {
     "data": {
      "application/vnd.jupyter.widget-view+json": {
       "model_id": "7f09645230f6480e9987d7788fd5415f",
       "version_major": 2,
       "version_minor": 0
      },
      "text/plain": [
       "VBox(children=(HTML(value='<b> Draw an area on the map below within the highlighted boundry, to select it.</b>…"
      ]
     },
     "metadata": {},
     "output_type": "display_data"
    }
   ],
   "source": [
    "#  map to select or draw site\n",
    "notebook_dropdowns.map_and_select_area(polygon_select)"
   ]
  },
  {
   "cell_type": "markdown",
   "id": "dfa1a0e1-7e4b-4da2-9e97-d2da1ef6cb91",
   "metadata": {},
   "source": [
    "## D. Method to obtained selected area to be used anywhere in the notebook\n",
    "\n",
    "- This method gets selected area as either a geopandas dataframe or a GeoJSON dict of s single site (if site was drawn on map)"
   ]
  },
  {
   "cell_type": "code",
   "execution_count": 12,
   "id": "74d411b9-e8e5-482e-a12b-afeeb70424ea",
   "metadata": {
    "tags": []
   },
   "outputs": [
    {
     "data": {
      "text/plain": [
       "{'type': 'Polygon',\n",
       " 'coordinates': [[[-3.749428, 52.389063],\n",
       "   [-3.749428, 52.499556],\n",
       "   [-3.502235, 52.499556],\n",
       "   [-3.502235, 52.389063],\n",
       "   [-3.749428, 52.389063]]]}"
      ]
     },
     "execution_count": 12,
     "metadata": {},
     "output_type": "execute_result"
    }
   ],
   "source": [
    "#  display what selected area is\n",
    "selected_polygon = notebook_dropdowns.polygon_selected()\n",
    "selected_polygon\n"
   ]
  },
  {
   "cell_type": "code",
   "execution_count": null,
   "id": "89256b52-f64c-4724-96d2-51d08393248d",
   "metadata": {},
   "outputs": [],
   "source": []
  },
  {
   "cell_type": "markdown",
   "id": "2ee49b48-2a4c-4ec9-bea8-3845c894d210",
   "metadata": {},
   "source": [
    "## E.  Visualize site selection at any point\n",
    "\n",
    "- one site has been selected and set , at any point in the notebook site can be visualsed on a map for confirmation "
   ]
  },
  {
   "cell_type": "code",
   "execution_count": 13,
   "id": "83e32dd5-fd40-43ef-a076-e3d8b4b5c2c5",
   "metadata": {
    "tags": []
   },
   "outputs": [
    {
     "data": {
      "application/vnd.jupyter.widget-view+json": {
       "model_id": "09e34d4cc709461eb222504c6952f660",
       "version_major": 2,
       "version_minor": 0
      },
      "text/plain": [
       "VBox(children=(HTML(value='<b>If you are happy with this AREA please confirm before continuing</b>'), Map(cent…"
      ]
     },
     "metadata": {},
     "output_type": "display_data"
    }
   ],
   "source": [
    "#  visualize selected option \n",
    "notebook_dropdowns.visualize_selected_area()"
   ]
  },
  {
   "cell_type": "markdown",
   "id": "d480c655-3249-480d-a475-b155aab653f7",
   "metadata": {},
   "source": [
    "## F. Apply buffer options to selection"
   ]
  },
  {
   "cell_type": "markdown",
   "id": "bb4e4941-ef86-4364-9508-3cfef8ebabef",
   "metadata": {},
   "source": [
    "#### F1.1 Buffer Including Site Selected"
   ]
  },
  {
   "cell_type": "code",
   "execution_count": 14,
   "id": "e6ecb0dd-02bc-4ebd-a6bf-f4c8a49f1cb0",
   "metadata": {
    "tags": []
   },
   "outputs": [
    {
     "data": {
      "application/vnd.jupyter.widget-view+json": {
       "model_id": "8e8883bfc844473ba602645550a08b32",
       "version_major": 2,
       "version_minor": 0
      },
      "text/plain": [
       "VBox(children=(RadioButtons(description='Buffer Distance:', layout=Layout(width='300px'), options=(('100m', 10…"
      ]
     },
     "metadata": {},
     "output_type": "display_data"
    }
   ],
   "source": [
    "# select buffer amount controls (you don't need to click confirm buffer button, once radio btn for option is clicked, it sets it)\n",
    "notebook_dropdowns.include_buffer()"
   ]
  },
  {
   "cell_type": "code",
   "execution_count": 15,
   "id": "761fff01-30a2-4c2a-9080-043ec5b6eb5c",
   "metadata": {
    "tags": []
   },
   "outputs": [
    {
     "data": {
      "application/vnd.jupyter.widget-view+json": {
       "model_id": "3ca6317d31b940f9a24c973e6af7449d",
       "version_major": 2,
       "version_minor": 0
      },
      "text/plain": [
       "HTML(value=\" <p style='color:black'>  Buffer distance:  <b style='color:'>  10.0 km (10000 meters) </b>  </p>\"…"
      ]
     },
     "metadata": {},
     "output_type": "display_data"
    }
   ],
   "source": [
    "# display what the active selected buffer amount is \n",
    "notebook_dropdowns.active_buffer()"
   ]
  },
  {
   "cell_type": "code",
   "execution_count": 16,
   "id": "78820d36-5c49-4b60-8141-175ab78bf6b2",
   "metadata": {
    "tags": []
   },
   "outputs": [
    {
     "data": {
      "application/vnd.jupyter.widget-view+json": {
       "model_id": "e66e0bf2e0434434acb93e9358ef1a6a",
       "version_major": 2,
       "version_minor": 0
      },
      "text/plain": [
       "Map(center=[np.float64(52.44420680368448), np.float64(-3.6258315000000003)], controls=(ZoomControl(options=['p…"
      ]
     },
     "metadata": {},
     "output_type": "display_data"
    },
    {
     "data": {
      "application/vnd.jupyter.widget-view+json": {
       "model_id": "16c802db25c54e1181d1151c4d5c9a73",
       "version_major": 2,
       "version_minor": 0
      },
      "text/plain": [
       "VBox(children=(HTML(value=\"<b>If applied buffer to site selection is good, click  <span style='color:orange'> …"
      ]
     },
     "metadata": {},
     "output_type": "display_data"
    }
   ],
   "source": [
    "#  run the buffer and include selection method and visualize it \n",
    "notebook_dropdowns.buffer_include_selection()"
   ]
  },
  {
   "cell_type": "code",
   "execution_count": 17,
   "id": "1bf8937a-000b-41de-8956-ed683a5c6667",
   "metadata": {
    "tags": []
   },
   "outputs": [
    {
     "data": {
      "application/vnd.jupyter.widget-view+json": {
       "model_id": "0841e8a752c441abb657a049103fdd10",
       "version_major": 2,
       "version_minor": 0
      },
      "text/plain": [
       "VBox(children=(HTML(value='<b>If you are happy with this AREA please confirm before continuing</b>'), Map(cent…"
      ]
     },
     "metadata": {},
     "output_type": "display_data"
    }
   ],
   "source": [
    "#  vizualize result of applied buffer \n",
    "notebook_dropdowns.visualize_selected_area()"
   ]
  },
  {
   "cell_type": "code",
   "execution_count": null,
   "id": "f780f7f7-57f2-4a78-80d3-988056beb102",
   "metadata": {},
   "outputs": [],
   "source": []
  },
  {
   "cell_type": "markdown",
   "id": "df9a7090-303d-49f3-9aa1-887863e98669",
   "metadata": {},
   "source": [
    "#### F1.2  Buffer excluding Site Selected"
   ]
  },
  {
   "cell_type": "code",
   "execution_count": 18,
   "id": "10c1b103-db8f-4264-a722-fe7bdd0e8d9c",
   "metadata": {
    "tags": []
   },
   "outputs": [
    {
     "data": {
      "application/vnd.jupyter.widget-view+json": {
       "model_id": "cc270f15dedb4f16ad52cbbff5aebae9",
       "version_major": 2,
       "version_minor": 0
      },
      "text/plain": [
       "Map(center=[np.float64(52.4440360506248), np.float64(-3.6258315000000003)], controls=(ZoomControl(options=['po…"
      ]
     },
     "metadata": {},
     "output_type": "display_data"
    },
    {
     "data": {
      "application/vnd.jupyter.widget-view+json": {
       "model_id": "a1d88f0843154f05b2a5c888d333ae31",
       "version_major": 2,
       "version_minor": 0
      },
      "text/plain": [
       "VBox(children=(HTML(value=\"<b>If applied buffer excluding site selection is good, click  <span style='color:or…"
      ]
     },
     "metadata": {},
     "output_type": "display_data"
    }
   ],
   "source": [
    "#  run the buffer and exclude selection method and visualize it \n",
    "notebook_dropdowns.buffer_exclude_selection()"
   ]
  },
  {
   "cell_type": "code",
   "execution_count": null,
   "id": "b43249c9-e0ba-40df-bf25-4adb26c5bd69",
   "metadata": {},
   "outputs": [],
   "source": [
    "#  visualise what has been selected\n",
    "notebook_dropdowns.visualize_selected_area()"
   ]
  },
  {
   "cell_type": "code",
   "execution_count": null,
   "id": "5d1d3d06-1d85-4b23-8b1e-b674a620105e",
   "metadata": {},
   "outputs": [],
   "source": []
  },
  {
   "cell_type": "code",
   "execution_count": null,
   "id": "6aedd763-508d-4fda-921b-a2a38ac804b4",
   "metadata": {},
   "outputs": [],
   "source": [
    "#  view the selected polygon again that is to be used for the analysis\n",
    "selected_polygon = notebook_dropdowns.polygon_selected()\n",
    "selected_polygon"
   ]
  },
  {
   "cell_type": "code",
   "execution_count": null,
   "id": "3e007aba-75db-47c1-bdf7-bf9f42508fe3",
   "metadata": {},
   "outputs": [],
   "source": []
  },
  {
   "cell_type": "markdown",
   "id": "3e461592-a3c1-400d-ba0c-17ea2f24df0d",
   "metadata": {},
   "source": [
    "## G. Extras: "
   ]
  },
  {
   "cell_type": "code",
   "execution_count": null,
   "id": "bcb62bbe-bade-4a89-885a-43de3ceb5040",
   "metadata": {},
   "outputs": [],
   "source": [
    "# if selected area data is in geopandas dataframe form, convert to GeoJson if needed "
   ]
  },
  {
   "cell_type": "code",
   "execution_count": null,
   "id": "c48018be-4074-471f-ad73-be151f288c00",
   "metadata": {
    "tags": []
   },
   "outputs": [],
   "source": [
    "geojson_format_selected_area = notebook_dropdowns.convert_to_geojson(selected_polygon)\n",
    "geojson_format_selected_area"
   ]
  },
  {
   "cell_type": "code",
   "execution_count": null,
   "id": "69bceead-6f7b-42d5-b215-64b41c3e4967",
   "metadata": {},
   "outputs": [],
   "source": []
  },
  {
   "cell_type": "code",
   "execution_count": null,
   "id": "7f3df92c-3c53-4847-b898-4809f17b40df",
   "metadata": {},
   "outputs": [],
   "source": [
    "# if selected area data is in GeoJson  form, convert to  geopandas dataframe if needed "
   ]
  },
  {
   "cell_type": "code",
   "execution_count": null,
   "id": "52fa5cc6-8741-454d-b359-84e790011081",
   "metadata": {
    "tags": []
   },
   "outputs": [],
   "source": [
    "gpdf_format_selected_area = notebook_dropdowns.convert_to_geopandas_df(selected_polygon)\n",
    "gpdf_format_selected_area"
   ]
  },
  {
   "cell_type": "code",
   "execution_count": null,
   "id": "6eaaa0a7-ec2f-4e55-acf3-f3c8a52d89ae",
   "metadata": {},
   "outputs": [],
   "source": []
  }
 ],
 "metadata": {
  "kernelspec": {
   "display_name": "Python 3 (ipykernel)",
   "language": "python",
   "name": "python3"
  },
  "language_info": {
   "codemirror_mode": {
    "name": "ipython",
    "version": 3
   },
   "file_extension": ".py",
   "mimetype": "text/x-python",
   "name": "python",
   "nbconvert_exporter": "python",
   "pygments_lexer": "ipython3",
   "version": "3.11.6"
  }
 },
 "nbformat": 4,
 "nbformat_minor": 5
}
